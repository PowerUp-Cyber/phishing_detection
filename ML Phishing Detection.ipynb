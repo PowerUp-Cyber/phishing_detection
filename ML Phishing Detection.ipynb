{
 "cells": [
  {
   "cell_type": "code",
   "execution_count": null,
   "id": "9d86d81a-4db3-469b-8fa3-32ca71d82a7e",
   "metadata": {},
   "outputs": [],
   "source": [
    "#!pip3 install pandas nltk scikit-learn joblib"
   ]
  },
  {
   "cell_type": "code",
   "execution_count": null,
   "id": "ee074add-3008-4426-be7e-bc05f7f4bb23",
   "metadata": {},
   "outputs": [],
   "source": [
    "import pandas as pd\n",
    "import nltk\n",
    "from sklearn.feature_extraction.text import TfidfVectorizer\n",
    "from sklearn.model_selection import train_test_split\n",
    "from sklearn.linear_model import LogisticRegression\n",
    "from sklearn.metrics import classification_report\n",
    "import joblib"
   ]
  },
  {
   "cell_type": "code",
   "execution_count": null,
   "id": "a6d94bf4-d8ef-44cb-875c-3496b72f6d94",
   "metadata": {},
   "outputs": [],
   "source": [
    "nltk.download('stopwords')\n",
    "from nltk.corpus import stopwords\n",
    "stop_words = set(stopwords.words('english'))"
   ]
  },
  {
   "cell_type": "code",
   "execution_count": null,
   "id": "0d2a5a53-bab1-4499-b041-712d5bbc97e4",
   "metadata": {},
   "outputs": [],
   "source": [
    "# Load the dataset from a CSV file - be sure to define the specific file path if current directory path is not working\n",
    "df = pd.read_csv('./spam_or_not_spam.csv')\n",
    "\n",
    "# Display the first few rows to verify the data\n",
    "df.head()"
   ]
  },
  {
   "cell_type": "code",
   "execution_count": null,
   "id": "81d1fd29-041e-442f-b2c7-464fcacba75b",
   "metadata": {},
   "outputs": [],
   "source": [
    "# Drop rows with missing values in the 'email' column\n",
    "df = df.dropna(subset=['email'])"
   ]
  },
  {
   "cell_type": "code",
   "execution_count": null,
   "id": "6c12909f-83d0-4693-9776-029856e6fbaf",
   "metadata": {},
   "outputs": [],
   "source": [
    "# Function to preprocess text data\n",
    "def preprocess_text(text):\n",
    "    text = text.lower()  # Convert text to lowercase\n",
    "    text = ' '.join(word for word in text.split() if word not in stop_words)  # Remove stopwords\n",
    "    return text\n",
    "\n",
    "# Apply the preprocessing function to the 'email' column\n",
    "df['email'] = df['email'].apply(preprocess_text)"
   ]
  },
  {
   "cell_type": "code",
   "execution_count": null,
   "id": "6fb1ed29-117e-4d11-bf8c-0d04f46a43a6",
   "metadata": {},
   "outputs": [],
   "source": [
    "# Convert text data into numerical features using TF-IDF\n",
    "vectorizer = TfidfVectorizer()\n",
    "X = vectorizer.fit_transform(df['email'])\n",
    "y = df['label']"
   ]
  },
  {
   "cell_type": "code",
   "execution_count": null,
   "id": "d3af50d9-3db2-4dce-9de2-33293f5a9e0b",
   "metadata": {},
   "outputs": [],
   "source": [
    "# Split the dataset into training and testing sets\n",
    "X_train, X_test, y_train, y_test = train_test_split(X, y, test_size=0.2, random_state=42)"
   ]
  },
  {
   "cell_type": "code",
   "execution_count": null,
   "id": "353813ab-b5ce-4171-aace-31e54aab6fdc",
   "metadata": {},
   "outputs": [],
   "source": [
    "# Train a Logistic Regression model\n",
    "model = LogisticRegression()\n",
    "model.fit(X_train, y_train)"
   ]
  },
  {
   "cell_type": "code",
   "execution_count": null,
   "id": "ad421d39-a2cd-40c2-9cf8-7f80a3a34578",
   "metadata": {},
   "outputs": [],
   "source": [
    "# Evaluate the model's performance on the testing set\n",
    "y_pred = model.predict(X_test)\n",
    "print(classification_report(y_test, y_pred))"
   ]
  },
  {
   "cell_type": "code",
   "execution_count": null,
   "id": "267cfbd2-31d2-47a2-8c7e-6e4b25773f28",
   "metadata": {},
   "outputs": [],
   "source": [
    "# Save the trained model and the TF-IDF vectorizer\n",
    "joblib.dump(model, 'phishing_model.pkl')\n",
    "joblib.dump(vectorizer, 'vectorizer.pkl')"
   ]
  },
  {
   "cell_type": "code",
   "execution_count": null,
   "id": "6bfe49f6-8240-4a6d-a9e3-9790103e6a3f",
   "metadata": {},
   "outputs": [],
   "source": [
    "# Function to predict whether a given email is phishing or legitimate\n",
    "def predict_phishing(text):\n",
    "    text = preprocess_text(text)  # Preprocess the input text\n",
    "    features = vectorizer.transform([text])  # Transform text into features\n",
    "    prediction = model.predict(features)  # Predict using the trained model\n",
    "    probability = model.predict_proba(features)[:, 1]  # Get the probability of the email being phishing\n",
    "    result = 'Phishing' if prediction[0] else 'Legitimate'\n",
    "    return result, probability[0]"
   ]
  },
  {
   "cell_type": "code",
   "execution_count": null,
   "id": "9db8d96d-8a77-426f-84b7-5c4da2c095de",
   "metadata": {},
   "outputs": [],
   "source": [
    "# Sample emails for testing the prediction function\n",
    "sample_emails = [\n",
    "    \"Congratulations! You've won a $1000 gift card. Click here to claim your prize.\",\n",
    "    \"Your account has been compromised. Please reset your password immediately by clicking this link.\",\n",
    "    \"Important: Your account will be suspended unless you verify your information here.\",\n",
    "    \"Urgent: Update your payment information to avoid service interruption.\",\n",
    "    \"You've been selected for a chance to win a brand new iPhone! Click to enter now.\",\n",
    "    \"Get free access to our exclusive membership by clicking this link.\",\n",
    "    \"Immediate action required: Your bank account is locked. Click here to unlock.\",\n",
    "    \"Verify your email address now to receive a special offer.\",\n",
    "    \"Win a free vacation by providing your email address here.\",\n",
    "    \"Your computer is infected with a virus. Click here to download antivirus software.\"\n",
    "]\n",
    "\n",
    "# Print the predictions with probabilities for sample emails\n",
    "for email in sample_emails:\n",
    "    result, probability = predict_phishing(email)\n",
    "    print(f\"Email: {email}\\nPrediction: {result}\\nProbability of Phishing: {probability:.2f}\\n\")"
   ]
  }
 ],
 "metadata": {
  "kernelspec": {
   "display_name": "Python 3 (ipykernel)",
   "language": "python",
   "name": "python3"
  },
  "language_info": {
   "codemirror_mode": {
    "name": "ipython",
    "version": 3
   },
   "file_extension": ".py",
   "mimetype": "text/x-python",
   "name": "python",
   "nbconvert_exporter": "python",
   "pygments_lexer": "ipython3",
   "version": "3.12.3"
  }
 },
 "nbformat": 4,
 "nbformat_minor": 5
}
